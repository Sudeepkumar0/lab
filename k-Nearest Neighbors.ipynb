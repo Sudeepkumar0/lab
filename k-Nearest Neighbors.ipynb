{
 "cells": [
  {
   "cell_type": "code",
   "id": "initial_id",
   "metadata": {
    "collapsed": true,
    "ExecuteTime": {
     "end_time": "2025-06-27T06:20:07.065041Z",
     "start_time": "2025-06-27T06:20:07.027336Z"
    }
   },
   "source": [
    "import pandas as pd\n",
    "from sklearn.datasets import load_iris\n",
    "from sklearn.model_selection import train_test_split\n",
    "from sklearn.neighbors import KNeighborsClassifier\n",
    "from sklearn.metrics import accuracy_score\n",
    "\n",
    "iris = load_iris()\n",
    "X = iris.data\n",
    "y = iris.target\n",
    "target_names = iris.target_names\n",
    "\n",
    "X_train, X_test, y_train, y_test = train_test_split(X, y, test_size=0.4, random_state=42)\n",
    "\n",
    "knn = KNeighborsClassifier(n_neighbors=3)\n",
    "knn.fit(X_train, y_train)\n",
    "\n",
    "y_pred = knn.predict(X_test)\n",
    "\n",
    "print(f\"{'Index':<6} {'Actual':<15} {'Predicted':<15} {'Result'}\")\n",
    "print(\"-\" * 50)\n",
    "for i in range(len(y_test)):\n",
    "    actual = target_names[y_test[i]]\n",
    "    predicted = target_names[y_pred[i]]\n",
    "    result = \"Correct\" if y_test[i] == y_pred[i] else \"Wrong\"\n",
    "    print(f\"{i:<6} {actual:<15} {predicted:<15} {result}\")\n",
    "\n",
    "accuracy = accuracy_score(y_test, y_pred)\n",
    "print(f\"Accuracy Score: {accuracy * 100:.2f}%\")\n"
   ],
   "outputs": [
    {
     "name": "stdout",
     "output_type": "stream",
     "text": [
      "Index  Actual          Predicted       Result\n",
      "--------------------------------------------------\n",
      "0      versicolor      versicolor      Correct\n",
      "1      setosa          setosa          Correct\n",
      "2      virginica       virginica       Correct\n",
      "3      versicolor      versicolor      Correct\n",
      "4      versicolor      versicolor      Correct\n",
      "5      setosa          setosa          Correct\n",
      "6      versicolor      versicolor      Correct\n",
      "7      virginica       virginica       Correct\n",
      "8      versicolor      versicolor      Correct\n",
      "9      versicolor      versicolor      Correct\n",
      "10     virginica       virginica       Correct\n",
      "11     setosa          setosa          Correct\n",
      "12     setosa          setosa          Correct\n",
      "13     setosa          setosa          Correct\n",
      "14     setosa          setosa          Correct\n",
      "15     versicolor      versicolor      Correct\n",
      "16     virginica       virginica       Correct\n",
      "17     versicolor      versicolor      Correct\n",
      "18     versicolor      versicolor      Correct\n",
      "19     virginica       virginica       Correct\n",
      "20     setosa          setosa          Correct\n",
      "21     virginica       virginica       Correct\n",
      "22     setosa          setosa          Correct\n",
      "23     virginica       virginica       Correct\n",
      "24     virginica       virginica       Correct\n",
      "25     virginica       virginica       Correct\n",
      "26     virginica       virginica       Correct\n",
      "27     virginica       virginica       Correct\n",
      "28     setosa          setosa          Correct\n",
      "29     setosa          setosa          Correct\n",
      "30     setosa          setosa          Correct\n",
      "31     setosa          setosa          Correct\n",
      "32     versicolor      versicolor      Correct\n",
      "33     setosa          setosa          Correct\n",
      "34     setosa          setosa          Correct\n",
      "35     virginica       virginica       Correct\n",
      "36     versicolor      versicolor      Correct\n",
      "37     setosa          setosa          Correct\n",
      "38     setosa          setosa          Correct\n",
      "39     setosa          setosa          Correct\n",
      "40     virginica       virginica       Correct\n",
      "41     versicolor      versicolor      Correct\n",
      "42     versicolor      versicolor      Correct\n",
      "43     setosa          setosa          Correct\n",
      "44     setosa          setosa          Correct\n",
      "45     versicolor      versicolor      Correct\n",
      "46     virginica       versicolor      Wrong\n",
      "47     virginica       virginica       Correct\n",
      "48     versicolor      versicolor      Correct\n",
      "49     virginica       virginica       Correct\n",
      "50     versicolor      versicolor      Correct\n",
      "51     virginica       virginica       Correct\n",
      "52     versicolor      versicolor      Correct\n",
      "53     setosa          setosa          Correct\n",
      "54     virginica       virginica       Correct\n",
      "55     versicolor      versicolor      Correct\n",
      "56     setosa          setosa          Correct\n",
      "57     setosa          setosa          Correct\n",
      "58     setosa          setosa          Correct\n",
      "59     versicolor      versicolor      Correct\n",
      "Accuracy Score: 98.33%\n"
     ]
    }
   ],
   "execution_count": 4
  },
  {
   "metadata": {},
   "cell_type": "code",
   "outputs": [],
   "execution_count": null,
   "source": "",
   "id": "17087925c608c8b1"
  }
 ],
 "metadata": {
  "kernelspec": {
   "display_name": "Python 3",
   "language": "python",
   "name": "python3"
  },
  "language_info": {
   "codemirror_mode": {
    "name": "ipython",
    "version": 2
   },
   "file_extension": ".py",
   "mimetype": "text/x-python",
   "name": "python",
   "nbconvert_exporter": "python",
   "pygments_lexer": "ipython2",
   "version": "2.7.6"
  }
 },
 "nbformat": 4,
 "nbformat_minor": 5
}
